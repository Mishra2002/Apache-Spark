{
  "nbformat": 4,
  "nbformat_minor": 0,
  "metadata": {
    "colab": {
      "provenance": []
    },
    "kernelspec": {
      "name": "python3",
      "display_name": "Python 3"
    },
    "language_info": {
      "name": "python"
    }
  },
  "cells": [
    {
      "cell_type": "code",
      "source": [
        "!pip install pyspark"
      ],
      "metadata": {
        "colab": {
          "base_uri": "https://localhost:8080/"
        },
        "id": "kTDMF1G7Cr6F",
        "outputId": "c4637542-23bd-4b9c-baf2-5b80fa9f811d"
      },
      "execution_count": null,
      "outputs": [
        {
          "output_type": "stream",
          "name": "stdout",
          "text": [
            "Collecting pyspark\n",
            "  Downloading pyspark-3.5.1.tar.gz (317.0 MB)\n",
            "\u001b[2K     \u001b[90m━━━━━━━━━━━━━━━━━━━━━━━━━━━━━━━━━━━━━━━━\u001b[0m \u001b[32m317.0/317.0 MB\u001b[0m \u001b[31m4.4 MB/s\u001b[0m eta \u001b[36m0:00:00\u001b[0m\n",
            "\u001b[?25h  Preparing metadata (setup.py) ... \u001b[?25l\u001b[?25hdone\n",
            "Requirement already satisfied: py4j==0.10.9.7 in /usr/local/lib/python3.10/dist-packages (from pyspark) (0.10.9.7)\n",
            "Building wheels for collected packages: pyspark\n",
            "  Building wheel for pyspark (setup.py) ... \u001b[?25l\u001b[?25hdone\n",
            "  Created wheel for pyspark: filename=pyspark-3.5.1-py2.py3-none-any.whl size=317488491 sha256=22de85284e674e83c6132e4126f0cbe5323d882bd3bddef48fed5358e4179036\n",
            "  Stored in directory: /root/.cache/pip/wheels/80/1d/60/2c256ed38dddce2fdd93be545214a63e02fbd8d74fb0b7f3a6\n",
            "Successfully built pyspark\n",
            "Installing collected packages: pyspark\n",
            "Successfully installed pyspark-3.5.1\n"
          ]
        }
      ]
    },
    {
      "cell_type": "code",
      "source": [
        "import pyspark\n",
        "import pandas as pd\n",
        "pd.read_csv('/content/test1.csv')"
      ],
      "metadata": {
        "colab": {
          "base_uri": "https://localhost:8080/",
          "height": 300
        },
        "id": "LgkrOFqQDIsp",
        "outputId": "4dd5880f-dc56-472a-d44b-17571a003ff4"
      },
      "execution_count": null,
      "outputs": [
        {
          "output_type": "execute_result",
          "data": {
            "text/plain": [
              "       Name   Age   Exp      sal\n",
              "0    Shivam  20.0  12.0  22000.0\n",
              "1  Dynanesh  21.0  11.0  23000.0\n",
              "2     Ameer  23.0  10.0  24000.0\n",
              "3      anas  22.0   9.0  25009.0\n",
              "4    pratik   NaN   8.0      NaN\n",
              "5    mahesh   NaN   4.0  22000.0\n",
              "6       NaN  22.0   NaN      NaN\n",
              "7       NaN  33.0   NaN  10000.0"
            ],
            "text/html": [
              "\n",
              "  <div id=\"df-f4606d21-6832-4bfb-afd6-fbcf67ca8410\" class=\"colab-df-container\">\n",
              "    <div>\n",
              "<style scoped>\n",
              "    .dataframe tbody tr th:only-of-type {\n",
              "        vertical-align: middle;\n",
              "    }\n",
              "\n",
              "    .dataframe tbody tr th {\n",
              "        vertical-align: top;\n",
              "    }\n",
              "\n",
              "    .dataframe thead th {\n",
              "        text-align: right;\n",
              "    }\n",
              "</style>\n",
              "<table border=\"1\" class=\"dataframe\">\n",
              "  <thead>\n",
              "    <tr style=\"text-align: right;\">\n",
              "      <th></th>\n",
              "      <th>Name</th>\n",
              "      <th>Age</th>\n",
              "      <th>Exp</th>\n",
              "      <th>sal</th>\n",
              "    </tr>\n",
              "  </thead>\n",
              "  <tbody>\n",
              "    <tr>\n",
              "      <th>0</th>\n",
              "      <td>Shivam</td>\n",
              "      <td>20.0</td>\n",
              "      <td>12.0</td>\n",
              "      <td>22000.0</td>\n",
              "    </tr>\n",
              "    <tr>\n",
              "      <th>1</th>\n",
              "      <td>Dynanesh</td>\n",
              "      <td>21.0</td>\n",
              "      <td>11.0</td>\n",
              "      <td>23000.0</td>\n",
              "    </tr>\n",
              "    <tr>\n",
              "      <th>2</th>\n",
              "      <td>Ameer</td>\n",
              "      <td>23.0</td>\n",
              "      <td>10.0</td>\n",
              "      <td>24000.0</td>\n",
              "    </tr>\n",
              "    <tr>\n",
              "      <th>3</th>\n",
              "      <td>anas</td>\n",
              "      <td>22.0</td>\n",
              "      <td>9.0</td>\n",
              "      <td>25009.0</td>\n",
              "    </tr>\n",
              "    <tr>\n",
              "      <th>4</th>\n",
              "      <td>pratik</td>\n",
              "      <td>NaN</td>\n",
              "      <td>8.0</td>\n",
              "      <td>NaN</td>\n",
              "    </tr>\n",
              "    <tr>\n",
              "      <th>5</th>\n",
              "      <td>mahesh</td>\n",
              "      <td>NaN</td>\n",
              "      <td>4.0</td>\n",
              "      <td>22000.0</td>\n",
              "    </tr>\n",
              "    <tr>\n",
              "      <th>6</th>\n",
              "      <td>NaN</td>\n",
              "      <td>22.0</td>\n",
              "      <td>NaN</td>\n",
              "      <td>NaN</td>\n",
              "    </tr>\n",
              "    <tr>\n",
              "      <th>7</th>\n",
              "      <td>NaN</td>\n",
              "      <td>33.0</td>\n",
              "      <td>NaN</td>\n",
              "      <td>10000.0</td>\n",
              "    </tr>\n",
              "  </tbody>\n",
              "</table>\n",
              "</div>\n",
              "    <div class=\"colab-df-buttons\">\n",
              "\n",
              "  <div class=\"colab-df-container\">\n",
              "    <button class=\"colab-df-convert\" onclick=\"convertToInteractive('df-f4606d21-6832-4bfb-afd6-fbcf67ca8410')\"\n",
              "            title=\"Convert this dataframe to an interactive table.\"\n",
              "            style=\"display:none;\">\n",
              "\n",
              "  <svg xmlns=\"http://www.w3.org/2000/svg\" height=\"24px\" viewBox=\"0 -960 960 960\">\n",
              "    <path d=\"M120-120v-720h720v720H120Zm60-500h600v-160H180v160Zm220 220h160v-160H400v160Zm0 220h160v-160H400v160ZM180-400h160v-160H180v160Zm440 0h160v-160H620v160ZM180-180h160v-160H180v160Zm440 0h160v-160H620v160Z\"/>\n",
              "  </svg>\n",
              "    </button>\n",
              "\n",
              "  <style>\n",
              "    .colab-df-container {\n",
              "      display:flex;\n",
              "      gap: 12px;\n",
              "    }\n",
              "\n",
              "    .colab-df-convert {\n",
              "      background-color: #E8F0FE;\n",
              "      border: none;\n",
              "      border-radius: 50%;\n",
              "      cursor: pointer;\n",
              "      display: none;\n",
              "      fill: #1967D2;\n",
              "      height: 32px;\n",
              "      padding: 0 0 0 0;\n",
              "      width: 32px;\n",
              "    }\n",
              "\n",
              "    .colab-df-convert:hover {\n",
              "      background-color: #E2EBFA;\n",
              "      box-shadow: 0px 1px 2px rgba(60, 64, 67, 0.3), 0px 1px 3px 1px rgba(60, 64, 67, 0.15);\n",
              "      fill: #174EA6;\n",
              "    }\n",
              "\n",
              "    .colab-df-buttons div {\n",
              "      margin-bottom: 4px;\n",
              "    }\n",
              "\n",
              "    [theme=dark] .colab-df-convert {\n",
              "      background-color: #3B4455;\n",
              "      fill: #D2E3FC;\n",
              "    }\n",
              "\n",
              "    [theme=dark] .colab-df-convert:hover {\n",
              "      background-color: #434B5C;\n",
              "      box-shadow: 0px 1px 3px 1px rgba(0, 0, 0, 0.15);\n",
              "      filter: drop-shadow(0px 1px 2px rgba(0, 0, 0, 0.3));\n",
              "      fill: #FFFFFF;\n",
              "    }\n",
              "  </style>\n",
              "\n",
              "    <script>\n",
              "      const buttonEl =\n",
              "        document.querySelector('#df-f4606d21-6832-4bfb-afd6-fbcf67ca8410 button.colab-df-convert');\n",
              "      buttonEl.style.display =\n",
              "        google.colab.kernel.accessAllowed ? 'block' : 'none';\n",
              "\n",
              "      async function convertToInteractive(key) {\n",
              "        const element = document.querySelector('#df-f4606d21-6832-4bfb-afd6-fbcf67ca8410');\n",
              "        const dataTable =\n",
              "          await google.colab.kernel.invokeFunction('convertToInteractive',\n",
              "                                                    [key], {});\n",
              "        if (!dataTable) return;\n",
              "\n",
              "        const docLinkHtml = 'Like what you see? Visit the ' +\n",
              "          '<a target=\"_blank\" href=https://colab.research.google.com/notebooks/data_table.ipynb>data table notebook</a>'\n",
              "          + ' to learn more about interactive tables.';\n",
              "        element.innerHTML = '';\n",
              "        dataTable['output_type'] = 'display_data';\n",
              "        await google.colab.output.renderOutput(dataTable, element);\n",
              "        const docLink = document.createElement('div');\n",
              "        docLink.innerHTML = docLinkHtml;\n",
              "        element.appendChild(docLink);\n",
              "      }\n",
              "    </script>\n",
              "  </div>\n",
              "\n",
              "\n",
              "<div id=\"df-904cba70-02be-428b-b400-f7d96fb6699a\">\n",
              "  <button class=\"colab-df-quickchart\" onclick=\"quickchart('df-904cba70-02be-428b-b400-f7d96fb6699a')\"\n",
              "            title=\"Suggest charts\"\n",
              "            style=\"display:none;\">\n",
              "\n",
              "<svg xmlns=\"http://www.w3.org/2000/svg\" height=\"24px\"viewBox=\"0 0 24 24\"\n",
              "     width=\"24px\">\n",
              "    <g>\n",
              "        <path d=\"M19 3H5c-1.1 0-2 .9-2 2v14c0 1.1.9 2 2 2h14c1.1 0 2-.9 2-2V5c0-1.1-.9-2-2-2zM9 17H7v-7h2v7zm4 0h-2V7h2v10zm4 0h-2v-4h2v4z\"/>\n",
              "    </g>\n",
              "</svg>\n",
              "  </button>\n",
              "\n",
              "<style>\n",
              "  .colab-df-quickchart {\n",
              "      --bg-color: #E8F0FE;\n",
              "      --fill-color: #1967D2;\n",
              "      --hover-bg-color: #E2EBFA;\n",
              "      --hover-fill-color: #174EA6;\n",
              "      --disabled-fill-color: #AAA;\n",
              "      --disabled-bg-color: #DDD;\n",
              "  }\n",
              "\n",
              "  [theme=dark] .colab-df-quickchart {\n",
              "      --bg-color: #3B4455;\n",
              "      --fill-color: #D2E3FC;\n",
              "      --hover-bg-color: #434B5C;\n",
              "      --hover-fill-color: #FFFFFF;\n",
              "      --disabled-bg-color: #3B4455;\n",
              "      --disabled-fill-color: #666;\n",
              "  }\n",
              "\n",
              "  .colab-df-quickchart {\n",
              "    background-color: var(--bg-color);\n",
              "    border: none;\n",
              "    border-radius: 50%;\n",
              "    cursor: pointer;\n",
              "    display: none;\n",
              "    fill: var(--fill-color);\n",
              "    height: 32px;\n",
              "    padding: 0;\n",
              "    width: 32px;\n",
              "  }\n",
              "\n",
              "  .colab-df-quickchart:hover {\n",
              "    background-color: var(--hover-bg-color);\n",
              "    box-shadow: 0 1px 2px rgba(60, 64, 67, 0.3), 0 1px 3px 1px rgba(60, 64, 67, 0.15);\n",
              "    fill: var(--button-hover-fill-color);\n",
              "  }\n",
              "\n",
              "  .colab-df-quickchart-complete:disabled,\n",
              "  .colab-df-quickchart-complete:disabled:hover {\n",
              "    background-color: var(--disabled-bg-color);\n",
              "    fill: var(--disabled-fill-color);\n",
              "    box-shadow: none;\n",
              "  }\n",
              "\n",
              "  .colab-df-spinner {\n",
              "    border: 2px solid var(--fill-color);\n",
              "    border-color: transparent;\n",
              "    border-bottom-color: var(--fill-color);\n",
              "    animation:\n",
              "      spin 1s steps(1) infinite;\n",
              "  }\n",
              "\n",
              "  @keyframes spin {\n",
              "    0% {\n",
              "      border-color: transparent;\n",
              "      border-bottom-color: var(--fill-color);\n",
              "      border-left-color: var(--fill-color);\n",
              "    }\n",
              "    20% {\n",
              "      border-color: transparent;\n",
              "      border-left-color: var(--fill-color);\n",
              "      border-top-color: var(--fill-color);\n",
              "    }\n",
              "    30% {\n",
              "      border-color: transparent;\n",
              "      border-left-color: var(--fill-color);\n",
              "      border-top-color: var(--fill-color);\n",
              "      border-right-color: var(--fill-color);\n",
              "    }\n",
              "    40% {\n",
              "      border-color: transparent;\n",
              "      border-right-color: var(--fill-color);\n",
              "      border-top-color: var(--fill-color);\n",
              "    }\n",
              "    60% {\n",
              "      border-color: transparent;\n",
              "      border-right-color: var(--fill-color);\n",
              "    }\n",
              "    80% {\n",
              "      border-color: transparent;\n",
              "      border-right-color: var(--fill-color);\n",
              "      border-bottom-color: var(--fill-color);\n",
              "    }\n",
              "    90% {\n",
              "      border-color: transparent;\n",
              "      border-bottom-color: var(--fill-color);\n",
              "    }\n",
              "  }\n",
              "</style>\n",
              "\n",
              "  <script>\n",
              "    async function quickchart(key) {\n",
              "      const quickchartButtonEl =\n",
              "        document.querySelector('#' + key + ' button');\n",
              "      quickchartButtonEl.disabled = true;  // To prevent multiple clicks.\n",
              "      quickchartButtonEl.classList.add('colab-df-spinner');\n",
              "      try {\n",
              "        const charts = await google.colab.kernel.invokeFunction(\n",
              "            'suggestCharts', [key], {});\n",
              "      } catch (error) {\n",
              "        console.error('Error during call to suggestCharts:', error);\n",
              "      }\n",
              "      quickchartButtonEl.classList.remove('colab-df-spinner');\n",
              "      quickchartButtonEl.classList.add('colab-df-quickchart-complete');\n",
              "    }\n",
              "    (() => {\n",
              "      let quickchartButtonEl =\n",
              "        document.querySelector('#df-904cba70-02be-428b-b400-f7d96fb6699a button');\n",
              "      quickchartButtonEl.style.display =\n",
              "        google.colab.kernel.accessAllowed ? 'block' : 'none';\n",
              "    })();\n",
              "  </script>\n",
              "</div>\n",
              "\n",
              "    </div>\n",
              "  </div>\n"
            ],
            "application/vnd.google.colaboratory.intrinsic+json": {
              "type": "dataframe",
              "summary": "{\n  \"name\": \"pd\",\n  \"rows\": 8,\n  \"fields\": [\n    {\n      \"column\": \"Name\",\n      \"properties\": {\n        \"dtype\": \"string\",\n        \"num_unique_values\": 6,\n        \"samples\": [\n          \"Shivam\",\n          \"Dynanesh\",\n          \"mahesh\"\n        ],\n        \"semantic_type\": \"\",\n        \"description\": \"\"\n      }\n    },\n    {\n      \"column\": \"Age\",\n      \"properties\": {\n        \"dtype\": \"number\",\n        \"std\": 4.764451699828638,\n        \"min\": 20.0,\n        \"max\": 33.0,\n        \"num_unique_values\": 5,\n        \"samples\": [\n          21.0,\n          33.0,\n          23.0\n        ],\n        \"semantic_type\": \"\",\n        \"description\": \"\"\n      }\n    },\n    {\n      \"column\": \"Exp\",\n      \"properties\": {\n        \"dtype\": \"number\",\n        \"std\": 2.8284271247461903,\n        \"min\": 4.0,\n        \"max\": 12.0,\n        \"num_unique_values\": 6,\n        \"samples\": [\n          12.0,\n          11.0,\n          4.0\n        ],\n        \"semantic_type\": \"\",\n        \"description\": \"\"\n      }\n    },\n    {\n      \"column\": \"sal\",\n      \"properties\": {\n        \"dtype\": \"number\",\n        \"std\": 5514.926427433099,\n        \"min\": 10000.0,\n        \"max\": 25009.0,\n        \"num_unique_values\": 5,\n        \"samples\": [\n          23000.0,\n          10000.0,\n          24000.0\n        ],\n        \"semantic_type\": \"\",\n        \"description\": \"\"\n      }\n    }\n  ]\n}"
            }
          },
          "metadata": {},
          "execution_count": 7
        }
      ]
    },
    {
      "cell_type": "code",
      "source": [
        "from pyspark.sql import SparkSession"
      ],
      "metadata": {
        "id": "Jjr1zroHEmQB"
      },
      "execution_count": null,
      "outputs": []
    },
    {
      "cell_type": "code",
      "source": [
        "spark=SparkSession.builder.appName('Practise').getOrCreate()"
      ],
      "metadata": {
        "id": "2adOA67-EoKs"
      },
      "execution_count": null,
      "outputs": []
    },
    {
      "cell_type": "code",
      "source": [
        "spark\n"
      ],
      "metadata": {
        "colab": {
          "base_uri": "https://localhost:8080/",
          "height": 219
        },
        "id": "Uq-GQetqEoHT",
        "outputId": "68a6fa3f-b4af-441c-d7c6-be835ca26e3f"
      },
      "execution_count": null,
      "outputs": [
        {
          "output_type": "execute_result",
          "data": {
            "text/plain": [
              "<pyspark.sql.session.SparkSession at 0x7d8afd96c280>"
            ],
            "text/html": [
              "\n",
              "            <div>\n",
              "                <p><b>SparkSession - in-memory</b></p>\n",
              "                \n",
              "        <div>\n",
              "            <p><b>SparkContext</b></p>\n",
              "\n",
              "            <p><a href=\"http://3cfd1c701c7b:4040\">Spark UI</a></p>\n",
              "\n",
              "            <dl>\n",
              "              <dt>Version</dt>\n",
              "                <dd><code>v3.5.1</code></dd>\n",
              "              <dt>Master</dt>\n",
              "                <dd><code>local[*]</code></dd>\n",
              "              <dt>AppName</dt>\n",
              "                <dd><code>Practise</code></dd>\n",
              "            </dl>\n",
              "        </div>\n",
              "        \n",
              "            </div>\n",
              "        "
            ]
          },
          "metadata": {},
          "execution_count": 6
        }
      ]
    },
    {
      "cell_type": "code",
      "source": [
        "df_pyspark=spark.read.csv('/content/test.csv')"
      ],
      "metadata": {
        "id": "1uy-xwbkEoDq"
      },
      "execution_count": null,
      "outputs": []
    },
    {
      "cell_type": "markdown",
      "source": [
        "first entry of csv file making it as a header else it show like this\n",
        "+--------+---+\n",
        "|     _c0|_c1|\n",
        "+--------+---+\n",
        "|    Name|Age|\n",
        "|  Shivam| 20|\n",
        "|Dynanesh| 21|\n",
        "|   Ameer| 23|\n",
        "|    anas| 22|\n",
        "+--------+---+"
      ],
      "metadata": {
        "id": "C6ZtqgbcGA7o"
      }
    },
    {
      "cell_type": "code",
      "source": [
        "df_pyspark=spark.read.option('header','true').csv('/content/test.csv')"
      ],
      "metadata": {
        "id": "oo9ORvQhEoAW"
      },
      "execution_count": null,
      "outputs": []
    },
    {
      "cell_type": "code",
      "source": [
        "df_pyspark.printSchema()"
      ],
      "metadata": {
        "colab": {
          "base_uri": "https://localhost:8080/"
        },
        "id": "G1YecvFzEn9P",
        "outputId": "834d00b4-1dda-4fe4-de9f-df2ec1020332"
      },
      "execution_count": null,
      "outputs": [
        {
          "output_type": "stream",
          "name": "stdout",
          "text": [
            "root\n",
            " |-- Name: string (nullable = true)\n",
            " |-- Age: string (nullable = true)\n",
            "\n"
          ]
        }
      ]
    },
    {
      "cell_type": "markdown",
      "source": [
        "by default it takes each column as string but if we use inferschema then it decides accurately"
      ],
      "metadata": {
        "id": "dWQxHiITIJ-T"
      }
    },
    {
      "cell_type": "code",
      "source": [
        "df_pyspark=spark.read.option('header','true').csv('/content/test.csv',inferSchema=True)"
      ],
      "metadata": {
        "id": "gLKgrfGXEn6c"
      },
      "execution_count": null,
      "outputs": []
    },
    {
      "cell_type": "code",
      "source": [
        "df_pyspark.printSchema()"
      ],
      "metadata": {
        "colab": {
          "base_uri": "https://localhost:8080/"
        },
        "id": "rGbyY7h_En2z",
        "outputId": "9454781c-f03f-4d1f-bd12-b092ec34739b"
      },
      "execution_count": null,
      "outputs": [
        {
          "output_type": "stream",
          "name": "stdout",
          "text": [
            "root\n",
            " |-- Name: string (nullable = true)\n",
            " |-- Age: integer (nullable = true)\n",
            "\n"
          ]
        }
      ]
    },
    {
      "cell_type": "code",
      "source": [
        "df_pyspark.columns"
      ],
      "metadata": {
        "colab": {
          "base_uri": "https://localhost:8080/"
        },
        "id": "iP9uLPOzEn0A",
        "outputId": "e9d2a2e0-3810-44a2-c156-776914e32613"
      },
      "execution_count": null,
      "outputs": [
        {
          "output_type": "execute_result",
          "data": {
            "text/plain": [
              "['Name', 'Age']"
            ]
          },
          "metadata": {},
          "execution_count": 15
        }
      ]
    },
    {
      "cell_type": "code",
      "source": [
        "df_pyspark.select('Name').show()"
      ],
      "metadata": {
        "colab": {
          "base_uri": "https://localhost:8080/"
        },
        "id": "KUH2YYDiEnwl",
        "outputId": "c0ed8bf6-0195-47f4-c9fa-1670d0b86f4d"
      },
      "execution_count": null,
      "outputs": [
        {
          "output_type": "stream",
          "name": "stdout",
          "text": [
            "+--------+\n",
            "|    Name|\n",
            "+--------+\n",
            "|  Shivam|\n",
            "|Dynanesh|\n",
            "|   Ameer|\n",
            "|    anas|\n",
            "+--------+\n",
            "\n"
          ]
        }
      ]
    },
    {
      "cell_type": "code",
      "source": [
        "df_pyspark.describe().show()"
      ],
      "metadata": {
        "colab": {
          "base_uri": "https://localhost:8080/"
        },
        "id": "3lK0c9lUEnuB",
        "outputId": "6e3443a8-5c0c-4870-a252-a25815cfffb5"
      },
      "execution_count": null,
      "outputs": [
        {
          "output_type": "stream",
          "name": "stdout",
          "text": [
            "+-------+-----+------------------+\n",
            "|summary| Name|               Age|\n",
            "+-------+-----+------------------+\n",
            "|  count|    4|                 4|\n",
            "|   mean| NULL|              21.5|\n",
            "| stddev| NULL|1.2909944487358058|\n",
            "|    min|Ameer|                20|\n",
            "|    max| anas|                23|\n",
            "+-------+-----+------------------+\n",
            "\n"
          ]
        }
      ]
    },
    {
      "cell_type": "code",
      "source": [
        "### Adding columns in data frame\n",
        "df_pyspark.withColumn('Age after 2 year',df_pyspark['Age']+2).show()"
      ],
      "metadata": {
        "colab": {
          "base_uri": "https://localhost:8080/"
        },
        "id": "YZyKyUJ1Enq6",
        "outputId": "352ed6e8-880b-4076-d88d-ac882888fb40"
      },
      "execution_count": null,
      "outputs": [
        {
          "output_type": "stream",
          "name": "stdout",
          "text": [
            "+--------+---+----------------+\n",
            "|    Name|Age|Age after 2 year|\n",
            "+--------+---+----------------+\n",
            "|  Shivam| 20|              22|\n",
            "|Dynanesh| 21|              23|\n",
            "|   Ameer| 23|              25|\n",
            "|    anas| 22|              24|\n",
            "+--------+---+----------------+\n",
            "\n"
          ]
        }
      ]
    },
    {
      "cell_type": "code",
      "source": [
        "df_pyspark=df_pyspark.drop('Age after 2 year')"
      ],
      "metadata": {
        "id": "tMV2VO1pEnne"
      },
      "execution_count": null,
      "outputs": []
    },
    {
      "cell_type": "code",
      "source": [
        "df_pyspark.show()"
      ],
      "metadata": {
        "colab": {
          "base_uri": "https://localhost:8080/"
        },
        "id": "LK7OgOrEEnkl",
        "outputId": "b3df3caa-22bc-4cc1-8236-bf0aa0cb4ca4"
      },
      "execution_count": null,
      "outputs": [
        {
          "output_type": "stream",
          "name": "stdout",
          "text": [
            "+--------+---+\n",
            "|    Name|Age|\n",
            "+--------+---+\n",
            "|  Shivam| 20|\n",
            "|Dynanesh| 21|\n",
            "|   Ameer| 23|\n",
            "|    anas| 22|\n",
            "+--------+---+\n",
            "\n"
          ]
        }
      ]
    },
    {
      "cell_type": "code",
      "source": [
        "df_pyspark.withColumnRenamed('Name','Naaaame').show()"
      ],
      "metadata": {
        "colab": {
          "base_uri": "https://localhost:8080/"
        },
        "id": "e0iVUBk5EnhW",
        "outputId": "b7a96a17-497a-4061-f558-7474c2a5ef65"
      },
      "execution_count": null,
      "outputs": [
        {
          "output_type": "stream",
          "name": "stdout",
          "text": [
            "+--------+---+\n",
            "| Naaaame|Age|\n",
            "+--------+---+\n",
            "|  Shivam| 20|\n",
            "|Dynanesh| 21|\n",
            "|   Ameer| 23|\n",
            "|    anas| 22|\n",
            "+--------+---+\n",
            "\n"
          ]
        }
      ]
    },
    {
      "cell_type": "code",
      "source": [
        "df_spark=spark.read.csv('test1.csv',header=True,inferSchema=True)"
      ],
      "metadata": {
        "id": "vFXDxWmiEnZG"
      },
      "execution_count": null,
      "outputs": []
    },
    {
      "cell_type": "code",
      "source": [
        "df_spark.na.drop().show()"
      ],
      "metadata": {
        "colab": {
          "base_uri": "https://localhost:8080/"
        },
        "id": "jUJG5y0wMoAm",
        "outputId": "6c8f3fb4-afc4-4ff4-9640-f3f59e7d2c06"
      },
      "execution_count": null,
      "outputs": [
        {
          "output_type": "stream",
          "name": "stdout",
          "text": [
            "+--------+---+---+-----+\n",
            "|    Name|Age|Exp|  sal|\n",
            "+--------+---+---+-----+\n",
            "|  Shivam| 20| 12|22000|\n",
            "|Dynanesh| 21| 11|23000|\n",
            "|   Ameer| 23| 10|24000|\n",
            "|    anas| 22|  9|25009|\n",
            "+--------+---+---+-----+\n",
            "\n"
          ]
        }
      ]
    },
    {
      "cell_type": "code",
      "source": [
        "### any=how\n",
        "df_spark.na.drop(how=\"any\").show()"
      ],
      "metadata": {
        "colab": {
          "base_uri": "https://localhost:8080/"
        },
        "id": "dcDF5I_4Mn9N",
        "outputId": "059c4c63-927a-4d44-e532-2a9c84f337e0"
      },
      "execution_count": null,
      "outputs": [
        {
          "output_type": "stream",
          "name": "stdout",
          "text": [
            "+--------+---+---+-----+\n",
            "|    Name|Age|Exp|  sal|\n",
            "+--------+---+---+-----+\n",
            "|  Shivam| 20| 12|22000|\n",
            "|Dynanesh| 21| 11|23000|\n",
            "|   Ameer| 23| 10|24000|\n",
            "|    anas| 22|  9|25009|\n",
            "+--------+---+---+-----+\n",
            "\n"
          ]
        }
      ]
    },
    {
      "cell_type": "code",
      "source": [
        "### threshold\n",
        "df_spark.na.drop(how=\"any\",thresh=2).show()"
      ],
      "metadata": {
        "colab": {
          "base_uri": "https://localhost:8080/"
        },
        "id": "zKUJ7X8dMn54",
        "outputId": "8a6c5459-5a66-4357-98a0-5c331e4c7efb"
      },
      "execution_count": null,
      "outputs": [
        {
          "output_type": "stream",
          "name": "stdout",
          "text": [
            "+--------+----+----+-----+\n",
            "|    Name| Age| Exp|  sal|\n",
            "+--------+----+----+-----+\n",
            "|  Shivam|  20|  12|22000|\n",
            "|Dynanesh|  21|  11|23000|\n",
            "|   Ameer|  23|  10|24000|\n",
            "|    anas|  22|   9|25009|\n",
            "|  pratik|NULL|   8| NULL|\n",
            "|  mahesh|NULL|   4|22000|\n",
            "|    NULL|  33|NULL|10000|\n",
            "+--------+----+----+-----+\n",
            "\n"
          ]
        }
      ]
    },
    {
      "cell_type": "code",
      "source": [
        "### subset->applying to particular columns\n",
        "df_spark.na.drop(how=\"any\",subset=['Age']).show()"
      ],
      "metadata": {
        "colab": {
          "base_uri": "https://localhost:8080/"
        },
        "id": "_K6fbmAkMn3o",
        "outputId": "d7662156-fe5d-4c13-be83-2fc65dc7b0c6"
      },
      "execution_count": null,
      "outputs": [
        {
          "output_type": "stream",
          "name": "stdout",
          "text": [
            "+--------+---+----+-----+\n",
            "|    Name|Age| Exp|  sal|\n",
            "+--------+---+----+-----+\n",
            "|  Shivam| 20|  12|22000|\n",
            "|Dynanesh| 21|  11|23000|\n",
            "|   Ameer| 23|  10|24000|\n",
            "|    anas| 22|   9|25009|\n",
            "|    NULL| 22|NULL| NULL|\n",
            "|    NULL| 33|NULL|10000|\n",
            "+--------+---+----+-----+\n",
            "\n"
          ]
        }
      ]
    },
    {
      "cell_type": "code",
      "source": [
        "df_spark.na.fill('Missing Values',['Name','sal']).show()"
      ],
      "metadata": {
        "colab": {
          "base_uri": "https://localhost:8080/"
        },
        "id": "zaHY52ElMnzx",
        "outputId": "3bcb708b-d137-43e9-b4e0-ecedf049dd22"
      },
      "execution_count": null,
      "outputs": [
        {
          "output_type": "stream",
          "name": "stdout",
          "text": [
            "+--------------+----+----+-----+\n",
            "|          Name| Age| Exp|  sal|\n",
            "+--------------+----+----+-----+\n",
            "|        Shivam|  20|  12|22000|\n",
            "|      Dynanesh|  21|  11|23000|\n",
            "|         Ameer|  23|  10|24000|\n",
            "|          anas|  22|   9|25009|\n",
            "|        pratik|NULL|   8| NULL|\n",
            "|        mahesh|NULL|   4|22000|\n",
            "|Missing Values|  22|NULL| NULL|\n",
            "|Missing Values|  33|NULL|10000|\n",
            "+--------------+----+----+-----+\n",
            "\n"
          ]
        }
      ]
    },
    {
      "cell_type": "code",
      "source": [
        "from pyspark.ml.feature import Imputer\n",
        "imputer=Imputer(\n",
        "    inputCols=['Age','Exp','sal'],\n",
        "    outputCols=[\"{}_imputed\".format(c) for c in ['Age','Exp','sal']]\n",
        ").setStrategy(\"mean\")"
      ],
      "metadata": {
        "id": "auBeAhEmMnwg"
      },
      "execution_count": null,
      "outputs": []
    },
    {
      "cell_type": "code",
      "source": [
        "imputer.fit(df_spark).transform(df_spark).show()"
      ],
      "metadata": {
        "colab": {
          "base_uri": "https://localhost:8080/"
        },
        "id": "Lf4_nmjGMntI",
        "outputId": "05ffcc2f-eb36-4fe9-c38e-f5537a55d89b"
      },
      "execution_count": null,
      "outputs": [
        {
          "output_type": "stream",
          "name": "stdout",
          "text": [
            "+--------+----+----+-----+-----------+-----------+-----------+\n",
            "|    Name| Age| Exp|  sal|Age_imputed|Exp_imputed|sal_imputed|\n",
            "+--------+----+----+-----+-----------+-----------+-----------+\n",
            "|  Shivam|  20|  12|22000|         20|         12|      22000|\n",
            "|Dynanesh|  21|  11|23000|         21|         11|      23000|\n",
            "|   Ameer|  23|  10|24000|         23|         10|      24000|\n",
            "|    anas|  22|   9|25009|         22|          9|      25009|\n",
            "|  pratik|NULL|   8| NULL|         23|          8|      21001|\n",
            "|  mahesh|NULL|   4|22000|         23|          4|      22000|\n",
            "|    NULL|  22|NULL| NULL|         22|          9|      21001|\n",
            "|    NULL|  33|NULL|10000|         33|          9|      10000|\n",
            "+--------+----+----+-----+-----------+-----------+-----------+\n",
            "\n"
          ]
        }
      ]
    },
    {
      "cell_type": "code",
      "source": [
        "df_filter=spark.read.csv('/content/test2_filter.csv',header=True,inferSchema=True)\n",
        "df_filter.show()"
      ],
      "metadata": {
        "colab": {
          "base_uri": "https://localhost:8080/"
        },
        "id": "vQB0ItnNMnnX",
        "outputId": "6c320c84-9af3-430a-829d-0daf38b46ef6"
      },
      "execution_count": null,
      "outputs": [
        {
          "output_type": "stream",
          "name": "stdout",
          "text": [
            "+--------+---+---+-----+\n",
            "|    Name|Age|Exp|  sal|\n",
            "+--------+---+---+-----+\n",
            "|  Shivam| 20| 12|22000|\n",
            "|Dynanesh| 21| 11|23000|\n",
            "|   Ameer| 23| 10|24000|\n",
            "|    anas| 22|  9|25009|\n",
            "|  pratik| 11|  8|33000|\n",
            "|  mahesh| 22|  4|22000|\n",
            "+--------+---+---+-----+\n",
            "\n"
          ]
        }
      ]
    },
    {
      "cell_type": "code",
      "source": [
        "df_filter.filter(\"sal>=25000\").show()"
      ],
      "metadata": {
        "colab": {
          "base_uri": "https://localhost:8080/"
        },
        "id": "fGe9RNd_MnhI",
        "outputId": "9ff5d099-d527-4084-da1b-243ed0d176a6"
      },
      "execution_count": null,
      "outputs": [
        {
          "output_type": "stream",
          "name": "stdout",
          "text": [
            "+------+---+---+-----+\n",
            "|  Name|Age|Exp|  sal|\n",
            "+------+---+---+-----+\n",
            "|  anas| 22|  9|25009|\n",
            "|pratik| 11|  8|33000|\n",
            "+------+---+---+-----+\n",
            "\n"
          ]
        }
      ]
    },
    {
      "cell_type": "code",
      "source": [
        "df_filter.filter(\"sal>=24000\").select(['Name','age']).show()"
      ],
      "metadata": {
        "colab": {
          "base_uri": "https://localhost:8080/"
        },
        "id": "fKnxN99NMndz",
        "outputId": "62c11ffc-3f3a-49c0-ac21-62db664216ac"
      },
      "execution_count": null,
      "outputs": [
        {
          "output_type": "stream",
          "name": "stdout",
          "text": [
            "+------+---+\n",
            "|  Name|age|\n",
            "+------+---+\n",
            "| Ameer| 23|\n",
            "|  anas| 22|\n",
            "|pratik| 11|\n",
            "+------+---+\n",
            "\n"
          ]
        }
      ]
    },
    {
      "cell_type": "code",
      "source": [
        "df_filter.filter((df_filter['sal']>=20000) | (df_filter['sal']<=25000)).show()"
      ],
      "metadata": {
        "colab": {
          "base_uri": "https://localhost:8080/"
        },
        "id": "ElXGqnjwMnaz",
        "outputId": "0e5d9835-828b-4ce5-a3ca-c2dc229bb1bb"
      },
      "execution_count": null,
      "outputs": [
        {
          "output_type": "stream",
          "name": "stdout",
          "text": [
            "+--------+---+---+-----+\n",
            "|    Name|Age|Exp|  sal|\n",
            "+--------+---+---+-----+\n",
            "|  Shivam| 20| 12|22000|\n",
            "|Dynanesh| 21| 11|23000|\n",
            "|   Ameer| 23| 10|24000|\n",
            "|    anas| 22|  9|25009|\n",
            "|  pratik| 11|  8|33000|\n",
            "|  mahesh| 22|  4|22000|\n",
            "+--------+---+---+-----+\n",
            "\n"
          ]
        }
      ]
    },
    {
      "cell_type": "code",
      "source": [
        "df_filter.filter(~(df_filter['sal']<=20000)).show()"
      ],
      "metadata": {
        "colab": {
          "base_uri": "https://localhost:8080/"
        },
        "id": "RSs1j61zMnYH",
        "outputId": "09ab9354-d361-4f4c-cbad-cdfac2747aa4"
      },
      "execution_count": null,
      "outputs": [
        {
          "output_type": "stream",
          "name": "stdout",
          "text": [
            "+--------+---+---+-----+\n",
            "|    Name|Age|Exp|  sal|\n",
            "+--------+---+---+-----+\n",
            "|  Shivam| 20| 12|22000|\n",
            "|Dynanesh| 21| 11|23000|\n",
            "|   Ameer| 23| 10|24000|\n",
            "|    anas| 22|  9|25009|\n",
            "|  pratik| 11|  8|33000|\n",
            "|  mahesh| 22|  4|22000|\n",
            "+--------+---+---+-----+\n",
            "\n"
          ]
        }
      ]
    },
    {
      "cell_type": "code",
      "source": [
        "df_pyspark=spark.read.csv('/content/test_aggre.csv',header=True,inferSchema=True)"
      ],
      "metadata": {
        "id": "DirPfUeoMnVJ"
      },
      "execution_count": null,
      "outputs": []
    },
    {
      "cell_type": "code",
      "source": [
        "df_pyspark.show()"
      ],
      "metadata": {
        "colab": {
          "base_uri": "https://localhost:8080/"
        },
        "id": "1NvGrOhJMnSH",
        "outputId": "3402ff01-c8bd-4968-a224-1b1041c34ed4"
      },
      "execution_count": null,
      "outputs": [
        {
          "output_type": "stream",
          "name": "stdout",
          "text": [
            "+--------+------------+-----+\n",
            "|    Name|      depart|  sal|\n",
            "+--------+------------+-----+\n",
            "|  Shivam|data science|22000|\n",
            "|Dynanesh|         web|23000|\n",
            "|   Ameer|         web|24000|\n",
            "|    anas|          ml|25009|\n",
            "|  pratik|         iot|33000|\n",
            "|  mahesh|         web|22000|\n",
            "|  Shivam|          ml|30000|\n",
            "|   shyam|         iot|19000|\n",
            "+--------+------------+-----+\n",
            "\n"
          ]
        }
      ]
    },
    {
      "cell_type": "markdown",
      "source": [],
      "metadata": {
        "id": "RTBdS8vWsZS1"
      }
    },
    {
      "cell_type": "code",
      "source": [
        "df_pyspark.printSchema()"
      ],
      "metadata": {
        "colab": {
          "base_uri": "https://localhost:8080/"
        },
        "id": "6eLGpPWjMnO5",
        "outputId": "2585a785-9645-4cf4-d950-0ef829a50e0c"
      },
      "execution_count": null,
      "outputs": [
        {
          "output_type": "stream",
          "name": "stdout",
          "text": [
            "root\n",
            " |-- Name: string (nullable = true)\n",
            " |-- depart: string (nullable = true)\n",
            " |-- sal: integer (nullable = true)\n",
            "\n"
          ]
        }
      ]
    },
    {
      "cell_type": "code",
      "source": [
        "### Grouping by And finding max salary\n",
        "df_pyspark.groupBy('Name').sum().show()"
      ],
      "metadata": {
        "colab": {
          "base_uri": "https://localhost:8080/"
        },
        "id": "Vii_Fn7rMnMC",
        "outputId": "1f21cb03-94a8-444c-bb50-4865e0c25390"
      },
      "execution_count": null,
      "outputs": [
        {
          "output_type": "stream",
          "name": "stdout",
          "text": [
            "+--------+--------+\n",
            "|    Name|sum(sal)|\n",
            "+--------+--------+\n",
            "|   Ameer|   24000|\n",
            "|  pratik|   33000|\n",
            "|    anas|   25009|\n",
            "|Dynanesh|   23000|\n",
            "|  Shivam|   52000|\n",
            "|   shyam|   19000|\n",
            "|  mahesh|   22000|\n",
            "+--------+--------+\n",
            "\n"
          ]
        }
      ]
    },
    {
      "cell_type": "code",
      "source": [
        "df_pyspark.groupBy('depart').sum().show()"
      ],
      "metadata": {
        "colab": {
          "base_uri": "https://localhost:8080/"
        },
        "id": "N2qHV4lgMnJI",
        "outputId": "63700b76-f824-4ee3-b23f-8ba338789046"
      },
      "execution_count": null,
      "outputs": [
        {
          "output_type": "stream",
          "name": "stdout",
          "text": [
            "+------------+--------+\n",
            "|      depart|sum(sal)|\n",
            "+------------+--------+\n",
            "|data science|   22000|\n",
            "|         iot|   52000|\n",
            "|          ml|   55009|\n",
            "|         web|   69000|\n",
            "+------------+--------+\n",
            "\n"
          ]
        }
      ]
    },
    {
      "cell_type": "code",
      "source": [
        "df_pyspark.groupBy('depart').mean().show()"
      ],
      "metadata": {
        "colab": {
          "base_uri": "https://localhost:8080/"
        },
        "id": "PKE_q4veMnGH",
        "outputId": "fb5ccb9f-22eb-4dfd-a82d-24e99021afe0"
      },
      "execution_count": null,
      "outputs": [
        {
          "output_type": "stream",
          "name": "stdout",
          "text": [
            "+------------+--------+\n",
            "|      depart|avg(sal)|\n",
            "+------------+--------+\n",
            "|data science| 22000.0|\n",
            "|         iot| 26000.0|\n",
            "|          ml| 27504.5|\n",
            "|         web| 23000.0|\n",
            "+------------+--------+\n",
            "\n"
          ]
        }
      ]
    },
    {
      "cell_type": "code",
      "source": [
        "df_pyspark.groupBy('depart').count().show()"
      ],
      "metadata": {
        "colab": {
          "base_uri": "https://localhost:8080/"
        },
        "id": "ifwoEBT9tt9w",
        "outputId": "1ffed729-93c0-479b-89ab-087caaf45d44"
      },
      "execution_count": null,
      "outputs": [
        {
          "output_type": "stream",
          "name": "stdout",
          "text": [
            "+------------+-----+\n",
            "|      depart|count|\n",
            "+------------+-----+\n",
            "|data science|    1|\n",
            "|         iot|    2|\n",
            "|          ml|    2|\n",
            "|         web|    3|\n",
            "+------------+-----+\n",
            "\n"
          ]
        }
      ]
    },
    {
      "cell_type": "code",
      "source": [
        "df_pyspark.groupBy('depart').max().show()"
      ],
      "metadata": {
        "colab": {
          "base_uri": "https://localhost:8080/"
        },
        "id": "vTagPFrmtt6a",
        "outputId": "baebf161-c981-4bee-d4b9-3634e7684ef6"
      },
      "execution_count": null,
      "outputs": [
        {
          "output_type": "stream",
          "name": "stdout",
          "text": [
            "+------------+--------+\n",
            "|      depart|max(sal)|\n",
            "+------------+--------+\n",
            "|data science|   22000|\n",
            "|         iot|   33000|\n",
            "|          ml|   30000|\n",
            "|         web|   24000|\n",
            "+------------+--------+\n",
            "\n"
          ]
        }
      ]
    },
    {
      "cell_type": "code",
      "source": [
        "df_pyspark.groupBy('depart').min().show()"
      ],
      "metadata": {
        "colab": {
          "base_uri": "https://localhost:8080/"
        },
        "id": "nvwjJfYstt3g",
        "outputId": "16ac0b95-c11b-487f-d154-af1f0686b170"
      },
      "execution_count": null,
      "outputs": [
        {
          "output_type": "stream",
          "name": "stdout",
          "text": [
            "+------------+--------+\n",
            "|      depart|min(sal)|\n",
            "+------------+--------+\n",
            "|data science|   22000|\n",
            "|         iot|   19000|\n",
            "|          ml|   25009|\n",
            "|         web|   22000|\n",
            "+------------+--------+\n",
            "\n"
          ]
        }
      ]
    },
    {
      "cell_type": "code",
      "source": [
        "training=spark.read.csv('test1.csv',header=True,inferSchema=True)"
      ],
      "metadata": {
        "id": "zCt1JZ5_tt0Z"
      },
      "execution_count": null,
      "outputs": []
    },
    {
      "cell_type": "code",
      "source": [
        "training.show()"
      ],
      "metadata": {
        "colab": {
          "base_uri": "https://localhost:8080/"
        },
        "id": "wEsdXxyittxX",
        "outputId": "cf13eee5-5377-489e-9897-f9556634a182"
      },
      "execution_count": null,
      "outputs": [
        {
          "output_type": "stream",
          "name": "stdout",
          "text": [
            "+--------+---+---+-----+\n",
            "|    Name|Age|Exp|  sal|\n",
            "+--------+---+---+-----+\n",
            "|  Shivam| 20| 12|22000|\n",
            "|Dynanesh| 21| 11|23000|\n",
            "|   Ameer| 23| 10|24000|\n",
            "|    anas| 22|  9|25009|\n",
            "|  pratik| 11|  8|33000|\n",
            "|  mahesh| 22|  4|22000|\n",
            "+--------+---+---+-----+\n",
            "\n"
          ]
        }
      ]
    },
    {
      "cell_type": "code",
      "source": [
        "training.columns"
      ],
      "metadata": {
        "colab": {
          "base_uri": "https://localhost:8080/"
        },
        "id": "uUajd1d9ttt8",
        "outputId": "4e57bb73-a915-44e9-908f-bbd739836efd"
      },
      "execution_count": null,
      "outputs": [
        {
          "output_type": "execute_result",
          "data": {
            "text/plain": [
              "['Name', 'Age', 'Exp', 'sal']"
            ]
          },
          "metadata": {},
          "execution_count": 51
        }
      ]
    },
    {
      "cell_type": "markdown",
      "source": [
        "[Age,experience] --->new feature ---->independent feature"
      ],
      "metadata": {
        "id": "bEBIDZa-xLBx"
      }
    },
    {
      "cell_type": "code",
      "source": [
        "from pyspark.ml.feature import VectorAssembler\n",
        "featureassembler=VectorAssembler(inputCols=[\"Age\",\"Exp\"],outputCol=\"Independent column\")"
      ],
      "metadata": {
        "id": "9fB1A41dttrS"
      },
      "execution_count": null,
      "outputs": []
    },
    {
      "cell_type": "code",
      "source": [
        "output=featureassembler.transform(training)"
      ],
      "metadata": {
        "id": "pqfsgEOpttoS"
      },
      "execution_count": null,
      "outputs": []
    },
    {
      "cell_type": "code",
      "source": [
        "output.show()"
      ],
      "metadata": {
        "colab": {
          "base_uri": "https://localhost:8080/"
        },
        "id": "DFlFNaPMttlC",
        "outputId": "06be1f14-0d63-467a-deb9-56379aec32e7"
      },
      "execution_count": null,
      "outputs": [
        {
          "output_type": "stream",
          "name": "stdout",
          "text": [
            "+--------+---+---+-----+------------------+\n",
            "|    Name|Age|Exp|  sal|Independent column|\n",
            "+--------+---+---+-----+------------------+\n",
            "|  Shivam| 20| 12|22000|       [20.0,12.0]|\n",
            "|Dynanesh| 21| 11|23000|       [21.0,11.0]|\n",
            "|   Ameer| 23| 10|24000|       [23.0,10.0]|\n",
            "|    anas| 22|  9|25009|        [22.0,9.0]|\n",
            "|  pratik| 11|  8|33000|        [11.0,8.0]|\n",
            "|  mahesh| 22|  4|22000|        [22.0,4.0]|\n",
            "+--------+---+---+-----+------------------+\n",
            "\n"
          ]
        }
      ]
    },
    {
      "cell_type": "code",
      "source": [
        "finalized_data=output.select(\"Independent column\",\"sal\")"
      ],
      "metadata": {
        "id": "foT8wBldttiG"
      },
      "execution_count": null,
      "outputs": []
    },
    {
      "cell_type": "code",
      "source": [
        "finalized_data.show()"
      ],
      "metadata": {
        "colab": {
          "base_uri": "https://localhost:8080/"
        },
        "id": "WjzgpVXDttfM",
        "outputId": "e80e1c15-3126-45a1-8724-d67ce1b415a7"
      },
      "execution_count": null,
      "outputs": [
        {
          "output_type": "stream",
          "name": "stdout",
          "text": [
            "+------------------+-----+\n",
            "|Independent column|  sal|\n",
            "+------------------+-----+\n",
            "|       [20.0,12.0]|22000|\n",
            "|       [21.0,11.0]|23000|\n",
            "|       [23.0,10.0]|24000|\n",
            "|        [22.0,9.0]|25009|\n",
            "|        [11.0,8.0]|33000|\n",
            "|        [22.0,4.0]|22000|\n",
            "+------------------+-----+\n",
            "\n"
          ]
        }
      ]
    },
    {
      "cell_type": "code",
      "source": [
        "from pyspark.ml.regression import LinearRegression\n",
        "train_data,test_data=finalized_data.randomSplit([0.75,0.25])\n",
        "regressor=LinearRegression(featuresCol='Independent column',labelCol='sal')\n",
        "regressor=regressor.fit(train_data)"
      ],
      "metadata": {
        "id": "iSLSvW9-y-1x"
      },
      "execution_count": null,
      "outputs": []
    },
    {
      "cell_type": "code",
      "source": [
        "regressor.coefficients"
      ],
      "metadata": {
        "colab": {
          "base_uri": "https://localhost:8080/"
        },
        "id": "Qbz5CXPL1e2D",
        "outputId": "4fa9812c-bc54-4bd9-cc12-576b185f2fd9"
      },
      "execution_count": null,
      "outputs": [
        {
          "output_type": "execute_result",
          "data": {
            "text/plain": [
              "DenseVector([-543.7216, -1476.5733])"
            ]
          },
          "metadata": {},
          "execution_count": 69
        }
      ]
    },
    {
      "cell_type": "code",
      "source": [
        "regressor.intercept"
      ],
      "metadata": {
        "colab": {
          "base_uri": "https://localhost:8080/"
        },
        "id": "loJRllZt1kId",
        "outputId": "740ee583-f9e6-4c4c-fb02-65a9adedeb73"
      },
      "execution_count": null,
      "outputs": [
        {
          "output_type": "execute_result",
          "data": {
            "text/plain": [
              "50715.73188180403"
            ]
          },
          "metadata": {},
          "execution_count": 70
        }
      ]
    },
    {
      "cell_type": "code",
      "source": [
        "pred_results=regressor.evaluate(test_data)"
      ],
      "metadata": {
        "id": "o8jWimOv0cRr"
      },
      "execution_count": null,
      "outputs": []
    },
    {
      "cell_type": "code",
      "source": [
        "pred_results.predictions.show()"
      ],
      "metadata": {
        "colab": {
          "base_uri": "https://localhost:8080/"
        },
        "id": "JBBcvEM-y-yS",
        "outputId": "d57a075f-b49f-4533-cd5a-4d448e9b382c"
      },
      "execution_count": null,
      "outputs": [
        {
          "output_type": "stream",
          "name": "stdout",
          "text": [
            "+------------------+-----+----------------+\n",
            "|Independent column|  sal|      prediction|\n",
            "+------------------+-----+----------------+\n",
            "|        [22.0,4.0]|22000|32847.5632970449|\n",
            "+------------------+-----+----------------+\n",
            "\n"
          ]
        }
      ]
    },
    {
      "cell_type": "code",
      "source": [],
      "metadata": {
        "id": "jioNd-BWy-vg"
      },
      "execution_count": null,
      "outputs": []
    },
    {
      "cell_type": "code",
      "source": [],
      "metadata": {
        "id": "Rv8DAL7oy-sa"
      },
      "execution_count": null,
      "outputs": []
    },
    {
      "cell_type": "code",
      "source": [],
      "metadata": {
        "id": "pSZcAiHoy-pT"
      },
      "execution_count": null,
      "outputs": []
    },
    {
      "cell_type": "code",
      "source": [],
      "metadata": {
        "id": "Jxh5ex5Xy-mU"
      },
      "execution_count": null,
      "outputs": []
    },
    {
      "cell_type": "code",
      "source": [],
      "metadata": {
        "id": "sjc8U4uOy-jN"
      },
      "execution_count": null,
      "outputs": []
    },
    {
      "cell_type": "code",
      "source": [],
      "metadata": {
        "id": "77tsTm86y-gO"
      },
      "execution_count": null,
      "outputs": []
    },
    {
      "cell_type": "code",
      "source": [],
      "metadata": {
        "id": "qbJIN_cby-dO"
      },
      "execution_count": null,
      "outputs": []
    },
    {
      "cell_type": "code",
      "source": [],
      "metadata": {
        "id": "wpRQ_H9Xy-Zs"
      },
      "execution_count": null,
      "outputs": []
    },
    {
      "cell_type": "code",
      "source": [],
      "metadata": {
        "id": "6naCauUuy-W0"
      },
      "execution_count": null,
      "outputs": []
    },
    {
      "cell_type": "code",
      "source": [],
      "metadata": {
        "id": "vYG8CSwCy-UG"
      },
      "execution_count": null,
      "outputs": []
    },
    {
      "cell_type": "code",
      "source": [],
      "metadata": {
        "id": "VrUDQEnIy-Q8"
      },
      "execution_count": null,
      "outputs": []
    },
    {
      "cell_type": "code",
      "source": [],
      "metadata": {
        "id": "EaUCv13Hy-OJ"
      },
      "execution_count": null,
      "outputs": []
    },
    {
      "cell_type": "code",
      "source": [],
      "metadata": {
        "id": "hxxUkjzhy-LX"
      },
      "execution_count": null,
      "outputs": []
    },
    {
      "cell_type": "code",
      "source": [],
      "metadata": {
        "id": "C8zc9Schy-IE"
      },
      "execution_count": null,
      "outputs": []
    },
    {
      "cell_type": "code",
      "source": [],
      "metadata": {
        "id": "UGIR1_5httRv"
      },
      "execution_count": null,
      "outputs": []
    }
  ]
}