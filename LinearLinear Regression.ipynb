{
 "cells": [
  {
   "cell_type": "code",
   "execution_count": 0,
   "metadata": {
    "application/vnd.databricks.v1+cell": {
     "cellMetadata": {
      "byteLimit": 2048000,
      "rowLimit": 10000
     },
     "inputWidgets": {},
     "nuid": "0b7479e0-8a53-4c10-adc7-ac06f43d997c",
     "showTitle": false,
     "title": ""
    }
   },
   "outputs": [
    {
     "output_type": "stream",
     "name": "stdout",
     "output_type": "stream",
     "text": [
      "+----------+----+------+------+---+------+----+----------------+------------------+----------------+----------+\n|total_bill| tip|   sex|smoker|day|  time|size|price_per_person|        Payer Name|       CC Number|Payment ID|\n+----------+----+------+------+---+------+----+----------------+------------------+----------------+----------+\n|     16.99|1.01|Female|    No|Sun|Dinner|   2|            8.49|Christy Cunningham|3560325168603410|   Sun2959|\n|     10.34|1.66|  Male|    No|Sun|Dinner|   3|            3.45|    Douglas Tucker|4478071379779230|   Sun4608|\n|     21.01| 3.5|  Male|    No|Sun|Dinner|   3|             7.0|    Travis Walters|6011812112971322|   Sun4458|\n|     23.68|3.31|  Male|    No|Sun|Dinner|   2|           11.84|  Nathaniel Harris|4676137647685994|   Sun5260|\n|     24.59|3.61|Female|    No|Sun|Dinner|   4|            6.15|      Tonya Carter|4832732618637221|   Sun2251|\n|     25.29|4.71|  Male|    No|Sun|Dinner|   4|            6.32|        Erik Smith| 213140353657882|   Sun9679|\n|      8.77| 2.0|  Male|    No|Sun|Dinner|   2|            4.38|Kristopher Johnson|2223727524230344|   Sun5985|\n|     26.88|3.12|  Male|    No|Sun|Dinner|   4|            6.72|       Robert Buck|3514785077705092|   Sun8157|\n|     15.04|1.96|  Male|    No|Sun|Dinner|   2|            7.52|   Joseph Mcdonald|3522866365840377|   Sun6820|\n|     14.78|3.23|  Male|    No|Sun|Dinner|   2|            7.39|     Jerome Abbott|3532124519049786|   Sun3775|\n|     10.27|1.71|  Male|    No|Sun|Dinner|   2|            5.14|     William Riley|    566287581219|   Sun2546|\n|     35.26| 5.0|Female|    No|Sun|Dinner|   4|            8.82|      Diane Macias|4577817359320969|   Sun6686|\n|     15.42|1.57|  Male|    No|Sun|Dinner|   2|            7.71|   Chad Harrington|    577040572932|   Sun1300|\n|     18.43| 3.0|  Male|    No|Sun|Dinner|   4|            4.61|      Joshua Jones|6011163105616890|   Sun2971|\n|     14.83|3.02|Female|    No|Sun|Dinner|   2|            7.42|     Vanessa Jones|  30016702287574|   Sun3848|\n|     21.58|3.92|  Male|    No|Sun|Dinner|   2|           10.79|    Matthew Reilly| 180073029785069|   Sun1878|\n|     10.33|1.67|Female|    No|Sun|Dinner|   3|            3.44|  Elizabeth Foster|4240025044626033|   Sun9715|\n|     16.29|3.71|  Male|    No|Sun|Dinner|   3|            5.43|      John Pittman|6521340257218708|   Sun2998|\n|     16.97| 3.5|Female|    No|Sun|Dinner|   3|            5.66|    Laura Martinez|  30422275171379|   Sun2789|\n|     20.65|3.35|  Male|    No|Sat|Dinner|   3|            6.88|     Timothy Oneal|6568069240986485|   Sat9213|\n+----------+----+------+------+---+------+----+----------------+------------------+----------------+----------+\nonly showing top 20 rows\n\n"
     ]
    }
   ],
   "source": [
    "file_location=\"/FileStore/tables/tips.csv\"\n",
    "file_type=\"csv\"\n",
    "\n",
    "df=spark.read.csv(file_location,header=True,inferSchema=True)\n",
    "df.show()"
   ]
  },
  {
   "cell_type": "code",
   "execution_count": 0,
   "metadata": {
    "application/vnd.databricks.v1+cell": {
     "cellMetadata": {
      "byteLimit": 2048000,
      "rowLimit": 10000
     },
     "inputWidgets": {},
     "nuid": "7ac721b2-a9e5-435c-987b-92abea215143",
     "showTitle": false,
     "title": ""
    }
   },
   "outputs": [
    {
     "output_type": "stream",
     "name": "stdout",
     "output_type": "stream",
     "text": [
      "root\n |-- total_bill: double (nullable = true)\n |-- tip: double (nullable = true)\n |-- sex: string (nullable = true)\n |-- smoker: string (nullable = true)\n |-- day: string (nullable = true)\n |-- time: string (nullable = true)\n |-- size: integer (nullable = true)\n |-- price_per_person: double (nullable = true)\n |-- Payer Name: string (nullable = true)\n |-- CC Number: long (nullable = true)\n |-- Payment ID: string (nullable = true)\n\n"
     ]
    }
   ],
   "source": [
    "df.printSchema()"
   ]
  },
  {
   "cell_type": "code",
   "execution_count": 0,
   "metadata": {
    "application/vnd.databricks.v1+cell": {
     "cellMetadata": {
      "byteLimit": 2048000,
      "rowLimit": 10000
     },
     "inputWidgets": {},
     "nuid": "d283656e-af61-4ea6-87ea-f8c75e5117c9",
     "showTitle": false,
     "title": ""
    }
   },
   "outputs": [
    {
     "output_type": "stream",
     "name": "stdout",
     "output_type": "stream",
     "text": [
      "Out[4]: ['total_bill',\n 'tip',\n 'sex',\n 'smoker',\n 'day',\n 'time',\n 'size',\n 'price_per_person',\n 'Payer Name',\n 'CC Number',\n 'Payment ID']"
     ]
    }
   ],
   "source": [
    "df.columns"
   ]
  },
  {
   "cell_type": "code",
   "execution_count": 0,
   "metadata": {
    "application/vnd.databricks.v1+cell": {
     "cellMetadata": {
      "byteLimit": 2048000,
      "rowLimit": 10000
     },
     "inputWidgets": {},
     "nuid": "d976533a-e3a1-4eb3-b735-7b558308951d",
     "showTitle": false,
     "title": ""
    }
   },
   "outputs": [],
   "source": [
    "### handling Categorical Features\n",
    "from pyspark.ml.feature import StringIndexer"
   ]
  },
  {
   "cell_type": "code",
   "execution_count": 0,
   "metadata": {
    "application/vnd.databricks.v1+cell": {
     "cellMetadata": {
      "byteLimit": 2048000,
      "rowLimit": 10000
     },
     "inputWidgets": {},
     "nuid": "70ea8a2f-7a93-4e8c-83b9-31fb8d584fb7",
     "showTitle": false,
     "title": ""
    }
   },
   "outputs": [
    {
     "output_type": "stream",
     "name": "stdout",
     "output_type": "stream",
     "text": [
      "+----------+----+------+------+---+------+----+----------------+------------------+----------------+----------+-----------+\n|total_bill| tip|   sex|smoker|day|  time|size|price_per_person|        Payer Name|       CC Number|Payment ID|sex_indexed|\n+----------+----+------+------+---+------+----+----------------+------------------+----------------+----------+-----------+\n|     16.99|1.01|Female|    No|Sun|Dinner|   2|            8.49|Christy Cunningham|3560325168603410|   Sun2959|        1.0|\n|     10.34|1.66|  Male|    No|Sun|Dinner|   3|            3.45|    Douglas Tucker|4478071379779230|   Sun4608|        0.0|\n|     21.01| 3.5|  Male|    No|Sun|Dinner|   3|             7.0|    Travis Walters|6011812112971322|   Sun4458|        0.0|\n|     23.68|3.31|  Male|    No|Sun|Dinner|   2|           11.84|  Nathaniel Harris|4676137647685994|   Sun5260|        0.0|\n|     24.59|3.61|Female|    No|Sun|Dinner|   4|            6.15|      Tonya Carter|4832732618637221|   Sun2251|        1.0|\n|     25.29|4.71|  Male|    No|Sun|Dinner|   4|            6.32|        Erik Smith| 213140353657882|   Sun9679|        0.0|\n|      8.77| 2.0|  Male|    No|Sun|Dinner|   2|            4.38|Kristopher Johnson|2223727524230344|   Sun5985|        0.0|\n|     26.88|3.12|  Male|    No|Sun|Dinner|   4|            6.72|       Robert Buck|3514785077705092|   Sun8157|        0.0|\n|     15.04|1.96|  Male|    No|Sun|Dinner|   2|            7.52|   Joseph Mcdonald|3522866365840377|   Sun6820|        0.0|\n|     14.78|3.23|  Male|    No|Sun|Dinner|   2|            7.39|     Jerome Abbott|3532124519049786|   Sun3775|        0.0|\n|     10.27|1.71|  Male|    No|Sun|Dinner|   2|            5.14|     William Riley|    566287581219|   Sun2546|        0.0|\n|     35.26| 5.0|Female|    No|Sun|Dinner|   4|            8.82|      Diane Macias|4577817359320969|   Sun6686|        1.0|\n|     15.42|1.57|  Male|    No|Sun|Dinner|   2|            7.71|   Chad Harrington|    577040572932|   Sun1300|        0.0|\n|     18.43| 3.0|  Male|    No|Sun|Dinner|   4|            4.61|      Joshua Jones|6011163105616890|   Sun2971|        0.0|\n|     14.83|3.02|Female|    No|Sun|Dinner|   2|            7.42|     Vanessa Jones|  30016702287574|   Sun3848|        1.0|\n|     21.58|3.92|  Male|    No|Sun|Dinner|   2|           10.79|    Matthew Reilly| 180073029785069|   Sun1878|        0.0|\n|     10.33|1.67|Female|    No|Sun|Dinner|   3|            3.44|  Elizabeth Foster|4240025044626033|   Sun9715|        1.0|\n|     16.29|3.71|  Male|    No|Sun|Dinner|   3|            5.43|      John Pittman|6521340257218708|   Sun2998|        0.0|\n|     16.97| 3.5|Female|    No|Sun|Dinner|   3|            5.66|    Laura Martinez|  30422275171379|   Sun2789|        1.0|\n|     20.65|3.35|  Male|    No|Sat|Dinner|   3|            6.88|     Timothy Oneal|6568069240986485|   Sat9213|        0.0|\n+----------+----+------+------+---+------+----+----------------+------------------+----------------+----------+-----------+\nonly showing top 20 rows\n\n"
     ]
    }
   ],
   "source": [
    "indexer=StringIndexer(inputCol=\"sex\",outputCol=\"sex_indexed\")\n",
    "df_r=indexer.fit(df).transform(df)\n",
    "df_r.show()"
   ]
  },
  {
   "cell_type": "code",
   "execution_count": 0,
   "metadata": {
    "application/vnd.databricks.v1+cell": {
     "cellMetadata": {
      "byteLimit": 2048000,
      "rowLimit": 10000
     },
     "inputWidgets": {},
     "nuid": "92c701f0-b0e3-429f-9cfd-d19f97b282ac",
     "showTitle": false,
     "title": ""
    }
   },
   "outputs": [
    {
     "output_type": "stream",
     "name": "stdout",
     "output_type": "stream",
     "text": [
      "+----------+----+------+------+---+------+----+----------------+------------------+----------------+----------+-----------+--------------+-----------+------------+\n|total_bill| tip|   sex|smoker|day|  time|size|price_per_person|        Payer Name|       CC Number|Payment ID|sex_indexed|smoker_indexed|day_indexed|time_indexed|\n+----------+----+------+------+---+------+----+----------------+------------------+----------------+----------+-----------+--------------+-----------+------------+\n|     16.99|1.01|Female|    No|Sun|Dinner|   2|            8.49|Christy Cunningham|3560325168603410|   Sun2959|        1.0|           0.0|        1.0|         0.0|\n|     10.34|1.66|  Male|    No|Sun|Dinner|   3|            3.45|    Douglas Tucker|4478071379779230|   Sun4608|        0.0|           0.0|        1.0|         0.0|\n|     21.01| 3.5|  Male|    No|Sun|Dinner|   3|             7.0|    Travis Walters|6011812112971322|   Sun4458|        0.0|           0.0|        1.0|         0.0|\n|     23.68|3.31|  Male|    No|Sun|Dinner|   2|           11.84|  Nathaniel Harris|4676137647685994|   Sun5260|        0.0|           0.0|        1.0|         0.0|\n|     24.59|3.61|Female|    No|Sun|Dinner|   4|            6.15|      Tonya Carter|4832732618637221|   Sun2251|        1.0|           0.0|        1.0|         0.0|\n|     25.29|4.71|  Male|    No|Sun|Dinner|   4|            6.32|        Erik Smith| 213140353657882|   Sun9679|        0.0|           0.0|        1.0|         0.0|\n|      8.77| 2.0|  Male|    No|Sun|Dinner|   2|            4.38|Kristopher Johnson|2223727524230344|   Sun5985|        0.0|           0.0|        1.0|         0.0|\n|     26.88|3.12|  Male|    No|Sun|Dinner|   4|            6.72|       Robert Buck|3514785077705092|   Sun8157|        0.0|           0.0|        1.0|         0.0|\n|     15.04|1.96|  Male|    No|Sun|Dinner|   2|            7.52|   Joseph Mcdonald|3522866365840377|   Sun6820|        0.0|           0.0|        1.0|         0.0|\n|     14.78|3.23|  Male|    No|Sun|Dinner|   2|            7.39|     Jerome Abbott|3532124519049786|   Sun3775|        0.0|           0.0|        1.0|         0.0|\n|     10.27|1.71|  Male|    No|Sun|Dinner|   2|            5.14|     William Riley|    566287581219|   Sun2546|        0.0|           0.0|        1.0|         0.0|\n|     35.26| 5.0|Female|    No|Sun|Dinner|   4|            8.82|      Diane Macias|4577817359320969|   Sun6686|        1.0|           0.0|        1.0|         0.0|\n|     15.42|1.57|  Male|    No|Sun|Dinner|   2|            7.71|   Chad Harrington|    577040572932|   Sun1300|        0.0|           0.0|        1.0|         0.0|\n|     18.43| 3.0|  Male|    No|Sun|Dinner|   4|            4.61|      Joshua Jones|6011163105616890|   Sun2971|        0.0|           0.0|        1.0|         0.0|\n|     14.83|3.02|Female|    No|Sun|Dinner|   2|            7.42|     Vanessa Jones|  30016702287574|   Sun3848|        1.0|           0.0|        1.0|         0.0|\n|     21.58|3.92|  Male|    No|Sun|Dinner|   2|           10.79|    Matthew Reilly| 180073029785069|   Sun1878|        0.0|           0.0|        1.0|         0.0|\n|     10.33|1.67|Female|    No|Sun|Dinner|   3|            3.44|  Elizabeth Foster|4240025044626033|   Sun9715|        1.0|           0.0|        1.0|         0.0|\n|     16.29|3.71|  Male|    No|Sun|Dinner|   3|            5.43|      John Pittman|6521340257218708|   Sun2998|        0.0|           0.0|        1.0|         0.0|\n|     16.97| 3.5|Female|    No|Sun|Dinner|   3|            5.66|    Laura Martinez|  30422275171379|   Sun2789|        1.0|           0.0|        1.0|         0.0|\n|     20.65|3.35|  Male|    No|Sat|Dinner|   3|            6.88|     Timothy Oneal|6568069240986485|   Sat9213|        0.0|           0.0|        0.0|         0.0|\n+----------+----+------+------+---+------+----+----------------+------------------+----------------+----------+-----------+--------------+-----------+------------+\nonly showing top 20 rows\n\n"
     ]
    }
   ],
   "source": [
    "indexer=StringIndexer(inputCols=[\"sex\",\"smoker\",\"day\",\"time\"],outputCols=[\"sex_indexed\",\"smoker_indexed\",\"day_indexed\",\"time_indexed\"])\n",
    "df_r=indexer.fit(df).transform(df)\n",
    "df_r.show()"
   ]
  },
  {
   "cell_type": "code",
   "execution_count": 0,
   "metadata": {
    "application/vnd.databricks.v1+cell": {
     "cellMetadata": {
      "byteLimit": 2048000,
      "rowLimit": 10000
     },
     "inputWidgets": {},
     "nuid": "a7562b0d-11e3-4ef6-ae1b-e7d8cdb6f78d",
     "showTitle": false,
     "title": ""
    },
    "jupyter": {
     "outputs_hidden": true
    }
   },
   "outputs": [],
   "source": [
    "from pyspark.ml.feature import VectorAssembler\n",
    "featureassembler=VectorAssembler(inputCols=['tip','size','sex_indexed','smoker_indexed','day_indexed','time_indexed'],outputCol=\"Independent Features\")\n",
    "output=featureassembler.transform(df_r)"
   ]
  },
  {
   "cell_type": "code",
   "execution_count": 0,
   "metadata": {
    "application/vnd.databricks.v1+cell": {
     "cellMetadata": {
      "byteLimit": 2048000,
      "rowLimit": 10000
     },
     "inputWidgets": {},
     "nuid": "4470b543-08c0-4e5c-afbb-87089580a826",
     "showTitle": false,
     "title": ""
    }
   },
   "outputs": [
    {
     "output_type": "stream",
     "name": "stdout",
     "output_type": "stream",
     "text": [
      "+----------+----+------+------+---+------+----+----------------+------------------+----------------+----------+-----------+--------------+-----------+------------+--------------------+\n|total_bill| tip|   sex|smoker|day|  time|size|price_per_person|        Payer Name|       CC Number|Payment ID|sex_indexed|smoker_indexed|day_indexed|time_indexed|Independent Features|\n+----------+----+------+------+---+------+----+----------------+------------------+----------------+----------+-----------+--------------+-----------+------------+--------------------+\n|     16.99|1.01|Female|    No|Sun|Dinner|   2|            8.49|Christy Cunningham|3560325168603410|   Sun2959|        1.0|           0.0|        1.0|         0.0|[1.01,2.0,1.0,0.0...|\n|     10.34|1.66|  Male|    No|Sun|Dinner|   3|            3.45|    Douglas Tucker|4478071379779230|   Sun4608|        0.0|           0.0|        1.0|         0.0|[1.66,3.0,0.0,0.0...|\n|     21.01| 3.5|  Male|    No|Sun|Dinner|   3|             7.0|    Travis Walters|6011812112971322|   Sun4458|        0.0|           0.0|        1.0|         0.0|[3.5,3.0,0.0,0.0,...|\n|     23.68|3.31|  Male|    No|Sun|Dinner|   2|           11.84|  Nathaniel Harris|4676137647685994|   Sun5260|        0.0|           0.0|        1.0|         0.0|[3.31,2.0,0.0,0.0...|\n|     24.59|3.61|Female|    No|Sun|Dinner|   4|            6.15|      Tonya Carter|4832732618637221|   Sun2251|        1.0|           0.0|        1.0|         0.0|[3.61,4.0,1.0,0.0...|\n|     25.29|4.71|  Male|    No|Sun|Dinner|   4|            6.32|        Erik Smith| 213140353657882|   Sun9679|        0.0|           0.0|        1.0|         0.0|[4.71,4.0,0.0,0.0...|\n|      8.77| 2.0|  Male|    No|Sun|Dinner|   2|            4.38|Kristopher Johnson|2223727524230344|   Sun5985|        0.0|           0.0|        1.0|         0.0|[2.0,2.0,0.0,0.0,...|\n|     26.88|3.12|  Male|    No|Sun|Dinner|   4|            6.72|       Robert Buck|3514785077705092|   Sun8157|        0.0|           0.0|        1.0|         0.0|[3.12,4.0,0.0,0.0...|\n|     15.04|1.96|  Male|    No|Sun|Dinner|   2|            7.52|   Joseph Mcdonald|3522866365840377|   Sun6820|        0.0|           0.0|        1.0|         0.0|[1.96,2.0,0.0,0.0...|\n|     14.78|3.23|  Male|    No|Sun|Dinner|   2|            7.39|     Jerome Abbott|3532124519049786|   Sun3775|        0.0|           0.0|        1.0|         0.0|[3.23,2.0,0.0,0.0...|\n|     10.27|1.71|  Male|    No|Sun|Dinner|   2|            5.14|     William Riley|    566287581219|   Sun2546|        0.0|           0.0|        1.0|         0.0|[1.71,2.0,0.0,0.0...|\n|     35.26| 5.0|Female|    No|Sun|Dinner|   4|            8.82|      Diane Macias|4577817359320969|   Sun6686|        1.0|           0.0|        1.0|         0.0|[5.0,4.0,1.0,0.0,...|\n|     15.42|1.57|  Male|    No|Sun|Dinner|   2|            7.71|   Chad Harrington|    577040572932|   Sun1300|        0.0|           0.0|        1.0|         0.0|[1.57,2.0,0.0,0.0...|\n|     18.43| 3.0|  Male|    No|Sun|Dinner|   4|            4.61|      Joshua Jones|6011163105616890|   Sun2971|        0.0|           0.0|        1.0|         0.0|[3.0,4.0,0.0,0.0,...|\n|     14.83|3.02|Female|    No|Sun|Dinner|   2|            7.42|     Vanessa Jones|  30016702287574|   Sun3848|        1.0|           0.0|        1.0|         0.0|[3.02,2.0,1.0,0.0...|\n|     21.58|3.92|  Male|    No|Sun|Dinner|   2|           10.79|    Matthew Reilly| 180073029785069|   Sun1878|        0.0|           0.0|        1.0|         0.0|[3.92,2.0,0.0,0.0...|\n|     10.33|1.67|Female|    No|Sun|Dinner|   3|            3.44|  Elizabeth Foster|4240025044626033|   Sun9715|        1.0|           0.0|        1.0|         0.0|[1.67,3.0,1.0,0.0...|\n|     16.29|3.71|  Male|    No|Sun|Dinner|   3|            5.43|      John Pittman|6521340257218708|   Sun2998|        0.0|           0.0|        1.0|         0.0|[3.71,3.0,0.0,0.0...|\n|     16.97| 3.5|Female|    No|Sun|Dinner|   3|            5.66|    Laura Martinez|  30422275171379|   Sun2789|        1.0|           0.0|        1.0|         0.0|[3.5,3.0,1.0,0.0,...|\n|     20.65|3.35|  Male|    No|Sat|Dinner|   3|            6.88|     Timothy Oneal|6568069240986485|   Sat9213|        0.0|           0.0|        0.0|         0.0|(6,[0,1],[3.35,3.0])|\n+----------+----+------+------+---+------+----+----------------+------------------+----------------+----------+-----------+--------------+-----------+------------+--------------------+\nonly showing top 20 rows\n\n"
     ]
    }
   ],
   "source": [
    "output.show()"
   ]
  },
  {
   "cell_type": "code",
   "execution_count": 0,
   "metadata": {
    "application/vnd.databricks.v1+cell": {
     "cellMetadata": {
      "byteLimit": 2048000,
      "rowLimit": 10000
     },
     "inputWidgets": {},
     "nuid": "9b6f50b7-f57c-4688-81b0-5863a879a595",
     "showTitle": false,
     "title": ""
    }
   },
   "outputs": [
    {
     "output_type": "stream",
     "name": "stdout",
     "output_type": "stream",
     "text": [
      "+--------------------+\n|Independent Features|\n+--------------------+\n|[1.01,2.0,1.0,0.0...|\n|[1.66,3.0,0.0,0.0...|\n|[3.5,3.0,0.0,0.0,...|\n|[3.31,2.0,0.0,0.0...|\n|[3.61,4.0,1.0,0.0...|\n|[4.71,4.0,0.0,0.0...|\n|[2.0,2.0,0.0,0.0,...|\n|[3.12,4.0,0.0,0.0...|\n|[1.96,2.0,0.0,0.0...|\n|[3.23,2.0,0.0,0.0...|\n|[1.71,2.0,0.0,0.0...|\n|[5.0,4.0,1.0,0.0,...|\n|[1.57,2.0,0.0,0.0...|\n|[3.0,4.0,0.0,0.0,...|\n|[3.02,2.0,1.0,0.0...|\n|[3.92,2.0,0.0,0.0...|\n|[1.67,3.0,1.0,0.0...|\n|[3.71,3.0,0.0,0.0...|\n|[3.5,3.0,1.0,0.0,...|\n|(6,[0,1],[3.35,3.0])|\n+--------------------+\nonly showing top 20 rows\n\n"
     ]
    }
   ],
   "source": [
    "output.select('Independent Features').show()"
   ]
  },
  {
   "cell_type": "code",
   "execution_count": 0,
   "metadata": {
    "application/vnd.databricks.v1+cell": {
     "cellMetadata": {
      "byteLimit": 2048000,
      "rowLimit": 10000
     },
     "inputWidgets": {},
     "nuid": "10f20b48-9bfb-49f4-a542-33ceecf597a7",
     "showTitle": false,
     "title": ""
    }
   },
   "outputs": [],
   "source": [
    "finalized_data=output.select(\"Independent Features\",\"total_bill\")"
   ]
  },
  {
   "cell_type": "code",
   "execution_count": 0,
   "metadata": {
    "application/vnd.databricks.v1+cell": {
     "cellMetadata": {
      "byteLimit": 2048000,
      "rowLimit": 10000
     },
     "inputWidgets": {},
     "nuid": "4d5c3270-ff3d-46f5-beec-2a59588bc975",
     "showTitle": false,
     "title": ""
    }
   },
   "outputs": [
    {
     "output_type": "stream",
     "name": "stdout",
     "output_type": "stream",
     "text": [
      "+--------------------+----------+\n|Independent Features|total_bill|\n+--------------------+----------+\n|[1.01,2.0,1.0,0.0...|     16.99|\n|[1.66,3.0,0.0,0.0...|     10.34|\n|[3.5,3.0,0.0,0.0,...|     21.01|\n|[3.31,2.0,0.0,0.0...|     23.68|\n|[3.61,4.0,1.0,0.0...|     24.59|\n|[4.71,4.0,0.0,0.0...|     25.29|\n|[2.0,2.0,0.0,0.0,...|      8.77|\n|[3.12,4.0,0.0,0.0...|     26.88|\n|[1.96,2.0,0.0,0.0...|     15.04|\n|[3.23,2.0,0.0,0.0...|     14.78|\n|[1.71,2.0,0.0,0.0...|     10.27|\n|[5.0,4.0,1.0,0.0,...|     35.26|\n|[1.57,2.0,0.0,0.0...|     15.42|\n|[3.0,4.0,0.0,0.0,...|     18.43|\n|[3.02,2.0,1.0,0.0...|     14.83|\n|[3.92,2.0,0.0,0.0...|     21.58|\n|[1.67,3.0,1.0,0.0...|     10.33|\n|[3.71,3.0,0.0,0.0...|     16.29|\n|[3.5,3.0,1.0,0.0,...|     16.97|\n|(6,[0,1],[3.35,3.0])|     20.65|\n+--------------------+----------+\nonly showing top 20 rows\n\n"
     ]
    }
   ],
   "source": [
    "finalized_data.show()"
   ]
  },
  {
   "cell_type": "code",
   "execution_count": 0,
   "metadata": {
    "application/vnd.databricks.v1+cell": {
     "cellMetadata": {
      "byteLimit": 2048000,
      "rowLimit": 10000
     },
     "inputWidgets": {},
     "nuid": "c00a1474-ac32-4f6b-8b76-3a6ebc1108ed",
     "showTitle": false,
     "title": ""
    }
   },
   "outputs": [],
   "source": [
    "from pyspark.ml.regression import LinearRegression\n",
    "train_data,test_data=finalized_data.randomSplit([0.75,0.25])\n",
    "regressor=LinearRegression(featuresCol='Independent Features', labelCol='total_bill')\n",
    "regressor=regressor.fit(train_data)"
   ]
  },
  {
   "cell_type": "code",
   "execution_count": 0,
   "metadata": {
    "application/vnd.databricks.v1+cell": {
     "cellMetadata": {
      "byteLimit": 2048000,
      "rowLimit": 10000
     },
     "inputWidgets": {},
     "nuid": "4fc47184-aca1-481d-bff7-db9b7f52c0aa",
     "showTitle": false,
     "title": ""
    }
   },
   "outputs": [
    {
     "output_type": "stream",
     "name": "stdout",
     "output_type": "stream",
     "text": [
      "Out[19]: DenseVector([3.2714, 3.4977, -0.8433, 2.2801, -0.6681, -0.2974])"
     ]
    }
   ],
   "source": [
    "regressor.coefficients"
   ]
  },
  {
   "cell_type": "code",
   "execution_count": 0,
   "metadata": {
    "application/vnd.databricks.v1+cell": {
     "cellMetadata": {
      "byteLimit": 2048000,
      "rowLimit": 10000
     },
     "inputWidgets": {},
     "nuid": "d6d25729-014e-449c-9718-38955be27c37",
     "showTitle": false,
     "title": ""
    }
   },
   "outputs": [
    {
     "output_type": "stream",
     "name": "stdout",
     "output_type": "stream",
     "text": [
      "Out[20]: 1.1980829841788454"
     ]
    }
   ],
   "source": [
    "regressor.intercept"
   ]
  },
  {
   "cell_type": "code",
   "execution_count": 0,
   "metadata": {
    "application/vnd.databricks.v1+cell": {
     "cellMetadata": {
      "byteLimit": 2048000,
      "rowLimit": 10000
     },
     "inputWidgets": {},
     "nuid": "4fcaab40-8bee-4641-98ba-55450f3ab36f",
     "showTitle": false,
     "title": ""
    }
   },
   "outputs": [],
   "source": [
    "pred_results=regressor.evaluate(test_data)"
   ]
  },
  {
   "cell_type": "code",
   "execution_count": 0,
   "metadata": {
    "application/vnd.databricks.v1+cell": {
     "cellMetadata": {
      "byteLimit": 2048000,
      "rowLimit": 10000
     },
     "inputWidgets": {},
     "nuid": "6546da34-94de-4a31-bcec-b2c95ec5dae0",
     "showTitle": false,
     "title": ""
    }
   },
   "outputs": [
    {
     "output_type": "stream",
     "name": "stdout",
     "output_type": "stream",
     "text": [
      "+--------------------+----------+------------------+\n|Independent Features|total_bill|        prediction|\n+--------------------+----------+------------------+\n|(6,[0,1],[1.25,2.0])|     10.51|12.282742892370475|\n| (6,[0,1],[2.0,2.0])|     12.69|14.736321117640887|\n| (6,[0,1],[2.0,2.0])|     13.37|14.736321117640887|\n|(6,[0,1],[2.72,2.0])|     13.28|17.091756213900485|\n|(6,[0,1],[3.15,3.0])|     20.08|21.996155829425994|\n|(6,[0,1],[3.27,2.0])|     17.78| 18.89104691243212|\n|(6,[0,1],[3.39,2.0])|     11.61|19.283619428475387|\n|[1.01,2.0,1.0,0.0...|     16.99| 9.986194766633247|\n|[1.25,2.0,1.0,0.0...|      8.51| 9.805827437574258|\n|[1.36,3.0,1.0,0.0...|     18.64|13.663367010317724|\n|[1.5,2.0,0.0,0.0,...|     12.46|11.096202919002007|\n|[1.5,2.0,1.0,0.0,...|      8.35|10.623686845997732|\n|[1.76,2.0,0.0,1.0...|     11.24|16.231258592642366|\n|[1.8,2.0,1.0,0.0,...|     12.43|11.605118136105897|\n|[2.0,2.0,0.0,0.0,...|     13.13| 14.06818799037691|\n|[2.0,2.0,0.0,1.0,...|     13.81|  17.0164036247289|\n|[2.0,2.0,0.0,1.0,...|     14.48|16.348270497464917|\n|[2.0,2.0,0.0,1.0,...|     13.51|  15.3827581363194|\n|[2.0,2.0,1.0,0.0,...|     10.33| 12.25940566284467|\n|[2.0,2.0,1.0,0.0,...|     14.15| 12.25940566284467|\n+--------------------+----------+------------------+\nonly showing top 20 rows\n\n"
     ]
    }
   ],
   "source": [
    "pred_results.predictions.show()"
   ]
  },
  {
   "cell_type": "code",
   "execution_count": 0,
   "metadata": {
    "application/vnd.databricks.v1+cell": {
     "cellMetadata": {
      "byteLimit": 2048000,
      "rowLimit": 10000
     },
     "inputWidgets": {},
     "nuid": "74a31f52-0d31-45f7-b121-7aee2d582ebf",
     "showTitle": false,
     "title": ""
    }
   },
   "outputs": [
    {
     "output_type": "stream",
     "name": "stdout",
     "output_type": "stream",
     "text": [
      "Out[25]: (0.43239105957961177, 4.067844717363938, 30.28833360884794)"
     ]
    }
   ],
   "source": [
    "pred_results.r2,pred_results.meanAbsoluteError,pred_results.meanSquaredError"
   ]
  }
 ],
 "metadata": {
  "application/vnd.databricks.v1+notebook": {
   "dashboards": [],
   "language": "python",
   "notebookMetadata": {
    "pythonIndentUnit": 4
   },
   "notebookName": "LinearLinear Regression",
   "widgets": {}
  }
 },
 "nbformat": 4,
 "nbformat_minor": 0
}
